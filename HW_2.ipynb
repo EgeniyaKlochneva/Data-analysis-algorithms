{
  "nbformat": 4,
  "nbformat_minor": 0,
  "metadata": {
    "colab": {
      "name": "HW_2.ipynb",
      "provenance": [],
      "collapsed_sections": [],
      "authorship_tag": "ABX9TyM27Ml7U9Xr7l1ZZfQZ3iAS",
      "include_colab_link": true
    },
    "kernelspec": {
      "name": "python3",
      "display_name": "Python 3"
    },
    "language_info": {
      "name": "python"
    }
  },
  "cells": [
    {
      "cell_type": "markdown",
      "metadata": {
        "id": "view-in-github",
        "colab_type": "text"
      },
      "source": [
        "<a href=\"https://colab.research.google.com/github/EgeniyaKlochneva/Data-analysis-algorithms/blob/Lesson2/HW_2.ipynb\" target=\"_parent\"><img src=\"https://colab.research.google.com/assets/colab-badge.svg\" alt=\"Open In Colab\"/></a>"
      ]
    },
    {
      "cell_type": "code",
      "execution_count": 1,
      "metadata": {
        "id": "JKnS6GoUc7Ns"
      },
      "outputs": [],
      "source": [
        "import numpy as np\n",
        "import matplotlib.pyplot as plt\n",
        "plt.rcParams.update({'font.size': 14,\n",
        "                     'xtick.labelsize': 14})\n",
        "%matplotlib inline\n"
      ]
    },
    {
      "cell_type": "code",
      "source": [
        "from sklearn import datasets\n",
        "X_, y_, coef = datasets.make_regression(n_samples=1000,\n",
        "                                        n_features=2,\n",
        "                                        n_informative=2,\n",
        "                                        n_targets=1, \n",
        "                                        noise=5,\n",
        "                                        coef=True,\n",
        "                                        random_state=42)\n",
        "coef\n"
      ],
      "metadata": {
        "colab": {
          "base_uri": "https://localhost:8080/"
        },
        "id": "V1NHvkVEedPr",
        "outputId": "770667e3-0ebd-4dfc-8b69-fbc2a902086f"
      },
      "execution_count": 2,
      "outputs": [
        {
          "output_type": "execute_result",
          "data": {
            "text/plain": [
              "array([40.71064891,  6.60098441])"
            ]
          },
          "metadata": {},
          "execution_count": 2
        }
      ]
    },
    {
      "cell_type": "code",
      "source": [
        "def calc_mse(y_, y_pred):\n",
        "  err = np.mean((y_ - y_pred)**2)\n",
        "  return err"
      ],
      "metadata": {
        "id": "FfsZFTOATwYN"
      },
      "execution_count": 3,
      "outputs": []
    },
    {
      "cell_type": "code",
      "source": [
        "# Метод градиентного спуска\n",
        "def eval_GD(X_, y_, iterations, eta=1e-2):\n",
        "    np.random.seed(42)\n",
        "    w = np.random.randn(X_.shape[1])\n",
        "    n = X_.shape[0]\n",
        "    for i in range(1, iterations + 1):\n",
        "        y_pred = np.dot(X_, w)\n",
        "        err_gd = calc_mse(y_, y_pred)\n",
        "        w -= eta * (1/n * 2 * np.dot(X_.T, (y_pred - y_)))\n",
        "        if i % (iterations / 10) == 0:\n",
        "            print(f'{i}: weights={w}, MSE={err_gd:.3f}')\n",
        "    return w"
      ],
      "metadata": {
        "id": "Gsz2M3QnZVXZ"
      },
      "execution_count": 4,
      "outputs": []
    },
    {
      "cell_type": "code",
      "source": [
        "w_gd = eval_GD(X_, y_, iterations=1500, eta=1e-2)"
      ],
      "metadata": {
        "colab": {
          "base_uri": "https://localhost:8080/"
        },
        "id": "ri4q7y4Fbhc-",
        "outputId": "331c0235-02dd-4280-a7a9-fa64186633fa"
      },
      "execution_count": 5,
      "outputs": [
        {
          "output_type": "stream",
          "name": "stdout",
          "text": [
            "150: weights=[38.43980094  6.42940741], MSE=30.063\n",
            "300: weights=[40.74143956  6.69018272], MSE=24.235\n",
            "450: weights=[40.88115382  6.69998128], MSE=24.214\n",
            "600: weights=[40.88963899  6.70031225], MSE=24.214\n",
            "750: weights=[40.89015449  6.70032079], MSE=24.214\n",
            "900: weights=[40.89018582  6.70032081], MSE=24.214\n",
            "1050: weights=[40.89018772  6.70032079], MSE=24.214\n",
            "1200: weights=[40.89018784  6.70032078], MSE=24.214\n",
            "1350: weights=[40.89018785  6.70032078], MSE=24.214\n",
            "1500: weights=[40.89018785  6.70032078], MSE=24.214\n"
          ]
        }
      ]
    },
    {
      "cell_type": "code",
      "source": [
        "# SGD - стохастический градиентный спуск\n",
        "def eval_SGD(X_, y_, iterations, eta=1e-4):\n",
        "    np.random.seed(42)\n",
        "    w = np.random.randn(X_.shape[1]) # начальное приближение весов\n",
        "    n = X_.shape[0] # число наблюдений\n",
        "    for i in range(1, iterations + 1):\n",
        "        err_sgd = calc_mse(y_, np.dot(X_, w))\n",
        "        ind = np.random.randint(n)  # генерируем случайный индекс объекта выборки\n",
        "        y_pred = np.dot(X_[ind], w)\n",
        "        w -= eta * (2 * np.dot(X_[ind].T, (y_pred - y_[ind])))\n",
        "        if i % (iterations / 10) == 0:\n",
        "            print(f'{i}: weights={w}, MSE={err_sgd:.3f}')\n",
        "    return w, err_sgd"
      ],
      "metadata": {
        "id": "mz171x2-es39"
      },
      "execution_count": 6,
      "outputs": []
    },
    {
      "cell_type": "code",
      "source": [
        "w_sgd = eval_SGD(X_, y_, iterations=4000, eta=1e-2)\n"
      ],
      "metadata": {
        "colab": {
          "base_uri": "https://localhost:8080/"
        },
        "id": "sfYSpXtjg-Zw",
        "outputId": "2f0aa28f-c3e3-4189-98ac-c73ac83eacff"
      },
      "execution_count": 7,
      "outputs": [
        {
          "output_type": "stream",
          "name": "stdout",
          "text": [
            "400: weights=[41.42636445  6.9091776 ], MSE=24.656\n",
            "800: weights=[40.60753055  6.6736391 ], MSE=24.258\n",
            "1200: weights=[41.02416135  7.24170024], MSE=24.656\n",
            "1600: weights=[41.04634156  6.6478302 ], MSE=24.246\n",
            "2000: weights=[41.2311181   6.46233169], MSE=24.368\n",
            "2400: weights=[40.85387299  6.8440407 ], MSE=24.252\n",
            "2800: weights=[40.74721122  5.91387917], MSE=24.800\n",
            "3200: weights=[40.56537341  7.92527227], MSE=25.818\n",
            "3600: weights=[40.57293     6.82409659], MSE=24.246\n",
            "4000: weights=[41.60422469  7.15067012], MSE=24.903\n"
          ]
        }
      ]
    },
    {
      "cell_type": "markdown",
      "source": [
        "Строим графики"
      ],
      "metadata": {
        "id": "JF8uB-BCi1h6"
      }
    },
    {
      "cell_type": "code",
      "source": [
        "# Визуализация изменения функционала ошибки\n",
        "plt.plot(range(len(err_gd)), err_gd, color='g')\n",
        "plt.plot(range(len(err_sgd)), err_sgd, color='r')\n",
        "plt.title('MSE')\n",
        "plt.xlabel('Iteration number')\n",
        "plt.ylabel('MSE')\n",
        "#не победила график... Не пойму как задать итерации.. "
      ],
      "metadata": {
        "colab": {
          "base_uri": "https://localhost:8080/",
          "height": 235
        },
        "id": "emSqpM49i46j",
        "outputId": "c86649e2-668b-4a06-d2b0-acb2903e5b74"
      },
      "execution_count": 8,
      "outputs": [
        {
          "output_type": "error",
          "ename": "NameError",
          "evalue": "ignored",
          "traceback": [
            "\u001b[0;31m---------------------------------------------------------------------------\u001b[0m",
            "\u001b[0;31mNameError\u001b[0m                                 Traceback (most recent call last)",
            "\u001b[0;32m<ipython-input-8-8175198e61e6>\u001b[0m in \u001b[0;36m<module>\u001b[0;34m()\u001b[0m\n\u001b[1;32m      1\u001b[0m \u001b[0;31m# Визуализация изменения функционала ошибки\u001b[0m\u001b[0;34m\u001b[0m\u001b[0;34m\u001b[0m\u001b[0;34m\u001b[0m\u001b[0m\n\u001b[0;32m----> 2\u001b[0;31m \u001b[0mplt\u001b[0m\u001b[0;34m.\u001b[0m\u001b[0mplot\u001b[0m\u001b[0;34m(\u001b[0m\u001b[0mrange\u001b[0m\u001b[0;34m(\u001b[0m\u001b[0mlen\u001b[0m\u001b[0;34m(\u001b[0m\u001b[0merr_gd\u001b[0m\u001b[0;34m)\u001b[0m\u001b[0;34m)\u001b[0m\u001b[0;34m,\u001b[0m \u001b[0merr_gd\u001b[0m\u001b[0;34m,\u001b[0m \u001b[0mcolor\u001b[0m\u001b[0;34m=\u001b[0m\u001b[0;34m'g'\u001b[0m\u001b[0;34m)\u001b[0m\u001b[0;34m\u001b[0m\u001b[0;34m\u001b[0m\u001b[0m\n\u001b[0m\u001b[1;32m      3\u001b[0m \u001b[0mplt\u001b[0m\u001b[0;34m.\u001b[0m\u001b[0mplot\u001b[0m\u001b[0;34m(\u001b[0m\u001b[0mrange\u001b[0m\u001b[0;34m(\u001b[0m\u001b[0mlen\u001b[0m\u001b[0;34m(\u001b[0m\u001b[0merr_sgd\u001b[0m\u001b[0;34m)\u001b[0m\u001b[0;34m)\u001b[0m\u001b[0;34m,\u001b[0m \u001b[0merr_sgd\u001b[0m\u001b[0;34m,\u001b[0m \u001b[0mcolor\u001b[0m\u001b[0;34m=\u001b[0m\u001b[0;34m'r'\u001b[0m\u001b[0;34m)\u001b[0m\u001b[0;34m\u001b[0m\u001b[0;34m\u001b[0m\u001b[0m\n\u001b[1;32m      4\u001b[0m \u001b[0mplt\u001b[0m\u001b[0;34m.\u001b[0m\u001b[0mtitle\u001b[0m\u001b[0;34m(\u001b[0m\u001b[0;34m'MSE'\u001b[0m\u001b[0;34m)\u001b[0m\u001b[0;34m\u001b[0m\u001b[0;34m\u001b[0m\u001b[0m\n\u001b[1;32m      5\u001b[0m \u001b[0mplt\u001b[0m\u001b[0;34m.\u001b[0m\u001b[0mxlabel\u001b[0m\u001b[0;34m(\u001b[0m\u001b[0;34m'Iteration number'\u001b[0m\u001b[0;34m)\u001b[0m\u001b[0;34m\u001b[0m\u001b[0;34m\u001b[0m\u001b[0m\n",
            "\u001b[0;31mNameError\u001b[0m: name 'err_gd' is not defined"
          ]
        }
      ]
    },
    {
      "cell_type": "markdown",
      "source": [
        ""
      ],
      "metadata": {
        "id": "M58tBneK-mhv"
      }
    },
    {
      "cell_type": "markdown",
      "source": [
        "\n",
        "[*] Добавить в алгоритм градиентного спуска L1 регуляризацию. Сравнить влияние коэффициентов регуляризации L1 и L2 на величину весов для примера из урока (лучше графически)."
      ],
      "metadata": {
        "id": "keSqGtoYeLgt"
      }
    },
    {
      "cell_type": "code",
      "source": [
        "# W = ((W) / (((W**2)**0.5))) - это произодная |W|"
      ],
      "metadata": {
        "id": "MblpV_UkD86u"
      },
      "execution_count": null,
      "outputs": []
    },
    {
      "cell_type": "code",
      "source": [
        "def eval_model_reg1(X_, y_, iterations, eta=1e-4, lambda_=1e-8, verbose=False):\n",
        "    np.random.seed(42)\n",
        "    w = np.random.randn(X_.shape[1])\n",
        "    w1 = ((w) / (((w**2)**0.5)))\n",
        "    w1 = np.float64(w)\n",
        "    n = X_.shape[0]\n",
        "    for i in range(1, iterations + 1):\n",
        "        y_pred = np.dot(X_, w)\n",
        "        err = calc_mse(y_, y_pred)\n",
        "        w -= eta * (1/n * 2 * np.dot(X_.T, (y_pred - y_)) + 2 * lambda_ * w1)\n",
        "        if verbose and i % (iterations / 10) == 0:\n",
        "            print(f'{i}: weights={w1}, MSE={err:.3f}')\n",
        "    return w"
      ],
      "metadata": {
        "id": "OMhXq6m--zlT"
      },
      "execution_count": 19,
      "outputs": []
    },
    {
      "cell_type": "code",
      "source": [
        "w = eval_model_reg1(X_, y_, iterations=2000, eta=1e-3, lambda_=1e-8, verbose=True)"
      ],
      "metadata": {
        "colab": {
          "base_uri": "https://localhost:8080/"
        },
        "id": "A6-E8t0mFFk4",
        "outputId": "5f10c736-45be-48cc-f440-347cfaef2542"
      },
      "execution_count": 22,
      "outputs": [
        {
          "output_type": "stream",
          "name": "stdout",
          "text": [
            "200: weights=[13.00512445  2.22541593], MSE=767.897\n",
            "400: weights=[21.63983466  3.77385272], MSE=377.594\n",
            "600: weights=[27.60058129  4.78770073], MSE=192.180\n",
            "800: weights=[31.7154928   5.45115671], MSE=104.072\n",
            "1000: weights=[34.55620342  5.8850623 ], MSE=62.191\n",
            "1200: weights=[36.517304    6.16866144], MSE=42.278\n",
            "1400: weights=[37.87117989  6.35389606], MSE=32.808\n",
            "1600: weights=[38.80586151  6.47479608], MSE=28.303\n",
            "1800: weights=[39.45115035  6.55364485], MSE=26.160\n",
            "2000: weights=[39.8966527   6.60502591], MSE=25.140\n"
          ]
        }
      ]
    },
    {
      "cell_type": "markdown",
      "source": [
        "Згачения получились приблизительно одинаковы, но пришлось существенно увеличить количество итераций.\n",
        "С графиками все очень сложно у меня..\n",
        "\n",
        "\n",
        "\n"
      ],
      "metadata": {
        "id": "Ixc5f-Q7GpHD"
      }
    },
    {
      "cell_type": "code",
      "source": [
        ""
      ],
      "metadata": {
        "id": "IIjDB0rbG2Se"
      },
      "execution_count": null,
      "outputs": []
    }
  ]
}
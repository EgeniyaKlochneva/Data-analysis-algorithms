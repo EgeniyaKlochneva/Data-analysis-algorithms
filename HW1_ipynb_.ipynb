{
  "cells": [
    {
      "cell_type": "markdown",
      "metadata": {
        "id": "qz4_3CBm3RTq"
      },
      "source": [
        "Библиотеки Python для DS (I) -> Библиотеки Python для DS (II) -> **Алгоритмы анализа данных**\n",
        "\n",
        "Правила:\n",
        "- пишем / улучшаем алгоритмы сами, используя numpy и pandas для генерации или чтения данных \n",
        "- алгоритмы из библиотеки sklearn использовать только для проверки решений, но не для самих решений!\n",
        "- ДЗ сдавать в jupyter блокнотах\n",
        "- pull request / ссылка / файл\n",
        "- не копировать разбор ДЗ в своем ДЗ\n",
        "- курсовик есть, даже два, но они по желанию"
      ]
    },
    {
      "cell_type": "markdown",
      "metadata": {
        "id": "gQlO3D1f3RTz"
      },
      "source": [
        "# Урок 1. Алгоритм линейной регрессии. Градиентный спуск"
      ]
    },
    {
      "cell_type": "markdown",
      "metadata": {
        "toc": true,
        "id": "bO0T0F5C3RT2"
      },
      "source": [
        "<h1>План занятия<span class=\"tocSkip\"></span></h1>\n",
        "<div class=\"toc\"><ul class=\"toc-item\"><li><span><a href=\"#Линейная-регрессия\" data-toc-modified-id=\"Линейная-регрессия-1\">Линейная регрессия</a></span><ul class=\"toc-item\"><li><span><a href=\"#Уравнение-прямой\" data-toc-modified-id=\"Уравнение-прямой-1.1\">Уравнение прямой</a></span></li><li><span><a href=\"#Уравнение-линейной-регрессии\" data-toc-modified-id=\"Уравнение-линейной-регрессии-1.2\">Уравнение линейной регрессии</a></span></li></ul></li><li><span><a href=\"#Метод-наименьших-квадратов-(Ordinary-Least-Squares)\" data-toc-modified-id=\"Метод-наименьших-квадратов-(Ordinary-Least-Squares)-2\">Метод наименьших квадратов (Ordinary Least Squares)</a></span></li><li><span><a href=\"#Градиентный-спуск-(gradient-descent)\" data-toc-modified-id=\"Градиентный-спуск-(gradient-descent)-3\">Градиентный спуск (gradient descent)</a></span></li><li><span><a href=\"#Домашние-задания\" data-toc-modified-id=\"Домашние-задания-4\">Домашние задания</a></span></li></ul></div>"
      ]
    },
    {
      "cell_type": "code",
      "execution_count": 1,
      "metadata": {
        "id": "ak8b3KV45kVW"
      },
      "outputs": [],
      "source": [
        "import numpy as np\n",
        "import matplotlib.pyplot as plt"
      ]
    },
    {
      "cell_type": "code",
      "execution_count": 2,
      "metadata": {
        "id": "H0M5RgEA3RT7"
      },
      "outputs": [],
      "source": [
        "plt.rcParams.update({'font.size': 14,\n",
        "                     'xtick.labelsize': 14})"
      ]
    },
    {
      "cell_type": "markdown",
      "metadata": {
        "id": "CjVq5Ikb3RT8"
      },
      "source": [
        "### Линейная регрессия"
      ]
    },
    {
      "cell_type": "code",
      "execution_count": 3,
      "metadata": {
        "colab": {
          "base_uri": "https://localhost:8080/",
          "height": 287
        },
        "id": "zyCVvnX63RT9",
        "outputId": "5c1475ab-c298-4e0f-cf89-d215733d5521"
      },
      "outputs": [
        {
          "output_type": "display_data",
          "data": {
            "text/plain": [
              "<Figure size 432x288 with 1 Axes>"
            ],
            "image/png": "[encoded data removed]"
          },
          "metadata": {
            "needs_background": "light"
          }
        }
      ],
      "source": [
        "x = np.random.uniform(low=0, high=10, size=100)\n",
        "m, b = 1, 0\n",
        "data = m * x + b + np.random.randn(100)\n",
        "plt.scatter(x, data, label='data')\n",
        "plt.plot(x, m * x + b, 'r', label='m * x + b')\n",
        "plt.xlabel('x')\n",
        "plt.ylabel('y')\n",
        "plt.grid()\n",
        "plt.legend();"
      ]
    },
    {
      "cell_type": "markdown",
      "metadata": {
        "id": "taJ2-Tso3RUB"
      },
      "source": [
        "#### Уравнение прямой"
      ]
    },
    {
      "cell_type": "code",
      "metadata": {
        "id": "U3vVuLOc6Us6",
        "colab": {
          "base_uri": "https://localhost:8080/",
          "height": 148
        },
        "outputId": "5305acbd-add1-4c0c-b0ef-8d8daf075bed"
      },
      "source": [
        "<div style='float:left;'><img src='img/slope-intercept-form.png' width=250 align='left'></img></div><div style='float:left;'><img src='img\\slope-intercept.png' width=300 align='center'></img></div>"
      ],
      "execution_count": 4,
      "outputs": [
        {
          "output_type": "error",
          "ename": "SyntaxError",
          "evalue": "ignored",
          "traceback": [
            "\u001b[0;36m  File \u001b[0;32m\"<ipython-input-4-114ffaf6778b>\"\u001b[0;36m, line \u001b[0;32m1\u001b[0m\n\u001b[0;31m    <div style='float:left;'><img src='img/slope-intercept-form.png' width=250 align='left'></img></div><div style='float:left;'><img src='img\\slope-intercept.png' width=300 align='center'></img></div>\u001b[0m\n\u001b[0m    ^\u001b[0m\n\u001b[0;31mSyntaxError\u001b[0m\u001b[0;31m:\u001b[0m invalid syntax\n"
          ]
        }
      ]
    },
    {
      "cell_type": "markdown",
      "source": [
        ""
      ],
      "metadata": {
        "id": "jZBa0j1p8OH9"
      }
    },
    {
      "cell_type": "code",
      "execution_count": 5,
      "metadata": {
        "colab": {
          "base_uri": "https://localhost:8080/",
          "height": 431,
          "referenced_widgets": [
            "cb9f7a0f669c485380430d80a0f77c21",
            "a3ccbb752879470d849fea3a518730a8",
            "5f768a6b71dc4de1af0f14e68cf5a74b",
            "ec36872ece1f4fa2bfa7050177c1f397",
            "85ef350539374a378af2b1e3e3832465",
            "0072afa31eca47048e1269776e8c1422",
            "ba49fd2d4fed41f2be8ecb7768d9956b",
            "21433e496c574ca9a3f4d2e7bdcbb8f8",
            "01a7061bd3064e6187c09fc6d932ba55",
            "953d3031ff9946cd942cf4f882ff4be5"
          ]
        },
        "id": "9-QIvboO3RUC",
        "outputId": "91765cc8-432c-406e-e3f0-d81873adfb02"
      },
      "outputs": [
        {
          "output_type": "display_data",
          "data": {
            "text/plain": [
              "interactive(children=(FloatSlider(value=0.0, description='m', max=2.0, min=-2.0), IntSlider(value=0, descripti…"
            ],
            "application/vnd.jupyter.widget-view+json": {
              "version_major": 2,
              "version_minor": 0,
              "model_id": "cb9f7a0f669c485380430d80a0f77c21"
            }
          },
          "metadata": {}
        }
      ],
      "source": [
        "from ipywidgets import interactive\n",
        "\n",
        "def f(m, b):\n",
        "    plt.figure(2)\n",
        "    x = np.linspace(0, 10, num=1000)\n",
        "    plt.plot(x, m * x + b)\n",
        "    plt.ylim(0, 10)\n",
        "    plt.xlim(0, 10)\n",
        "    plt.show()\n",
        "\n",
        "interactive_plot = interactive(f, m=(-2.0, 2.0), b=(-10, 10, 1))\n",
        "output = interactive_plot.children[-1]\n",
        "output.layout.height = '350px'\n",
        "interactive_plot"
      ]
    },
    {
      "cell_type": "markdown",
      "metadata": {
        "id": "jczKMOqJ3RUD"
      },
      "source": [
        "#### Уравнение линейной регрессии"
      ]
    },
    {
      "cell_type": "markdown",
      "metadata": {
        "id": "Xib7Y7jy3RUE"
      },
      "source": [
        "$${y}_i = w_0 + w_1\\cdot x_{i}+\\epsilon_i, \\text{ for } i \\in [1,n]$$\n",
        "$$\\hat{y}_i = \\hat w_0\\cdot 1 + \\hat w_1\\cdot x_{i}, \\text{ for } i \\in [1,n]$$"
      ]
    },
    {
      "cell_type": "markdown",
      "metadata": {
        "id": "_rxDJ1L-3RUF"
      },
      "source": [
        "$$\\vec{y}=X\\vec{w},$$\n",
        "\n",
        "\n",
        "$$\\text{где }\\vec{y} = \\begin{pmatrix}\n",
        "\\hat y_{1}\\\\ \n",
        "\\vdots\\\\ \n",
        "\\hat y_{n}\n",
        "\\end{pmatrix}, \n",
        "X = \\begin{pmatrix}\n",
        "1 & x_{1}\\\\ \n",
        "\\vdots & \\vdots\\\\ \n",
        "1 & x_{n}\n",
        "\\end{pmatrix},\n",
        "\\vec{w} = \\begin{pmatrix}\n",
        "\\hat w_{0}\\\\ \n",
        "\\hat w_{1}\n",
        "\\end{pmatrix}\n",
        "$$"
      ]
    },
    {
      "cell_type": "code",
      "execution_count": 6,
      "metadata": {
        "colab": {
          "base_uri": "https://localhost:8080/"
        },
        "id": "i77tZbAd5plB",
        "outputId": "ea21861e-c7f8-44de-b1e7-66d833d7513e"
      },
      "outputs": [
        {
          "output_type": "execute_result",
          "data": {
            "text/plain": [
              "(10, 2)"
            ]
          },
          "metadata": {},
          "execution_count": 6
        }
      ],
      "source": [
        "X = np.array([[1, 1, 1, 1, 1, 1, 1, 1, 1, 1],   # для умножения на intercept\n",
        "              [1, 1, 2, 1, 3, 0, 5, 10, 1, 2]]).T # стаж репетитора\n",
        "X.shape"
      ]
    },
    {
      "cell_type": "code",
      "execution_count": 8,
      "metadata": {
        "colab": {
          "base_uri": "https://localhost:8080/"
        },
        "id": "jK6fH0RM3RUG",
        "outputId": "5c9df6b6-c954-4e68-c2a4-971ef1552afa"
      },
      "outputs": [
        {
          "output_type": "execute_result",
          "data": {
            "text/plain": [
              "array([[ 1,  1],\n",
              "       [ 1,  1],\n",
              "       [ 1,  2],\n",
              "       [ 1,  1],\n",
              "       [ 1,  3],\n",
              "       [ 1,  0],\n",
              "       [ 1,  5],\n",
              "       [ 1, 10],\n",
              "       [ 1,  1],\n",
              "       [ 1,  2]])"
            ]
          },
          "metadata": {},
          "execution_count": 8
        }
      ],
      "source": [
        "X"
      ]
    },
    {
      "cell_type": "code",
      "execution_count": 9,
      "metadata": {
        "id": "VsNrKi1Q6Wmh"
      },
      "outputs": [],
      "source": [
        "# средний балл ЕГЭ (целевая переменная)\n",
        "y = [45, 55, 50, 59, 65, 35, 75, 80, 50, 60]"
      ]
    },
    {
      "cell_type": "code",
      "execution_count": 10,
      "metadata": {
        "colab": {
          "base_uri": "https://localhost:8080/",
          "height": 287
        },
        "id": "qrXJ8gQBHMmy",
        "outputId": "2b2eb5ce-c83d-481f-aa61-df5e68241807"
      },
      "outputs": [
        {
          "output_type": "display_data",
          "data": {
            "text/plain": [
              "<Figure size 432x288 with 1 Axes>"
            ],
            "image/png": "[encoded data removed]"
          },
          "metadata": {
            "needs_background": "light"
          }
        }
      ],
      "source": [
        "plt.scatter(X[:,1], y)\n",
        "plt.xlabel('стаж')\n",
        "plt.ylabel('ср.балл ЕГЭ');"
      ]
    },
    {
      "cell_type": "code",
      "execution_count": 11,
      "metadata": {
        "colab": {
          "base_uri": "https://localhost:8080/",
          "height": 287
        },
        "outputId": "aa147ca0-cb94-42e9-82c5-7a44a52424e0",
        "id": "Guz0dfMY3RUI"
      },
      "outputs": [
        {
          "output_type": "display_data",
          "data": {
            "text/plain": [
              "<Figure size 432x288 with 1 Axes>"
            ],
            "image/png": "[encoded data removed]"
          },
          "metadata": {
            "needs_background": "light"
          }
        }
      ],
      "source": [
        "# y = m * x + b\n",
        "m = 4\n",
        "b = 47\n",
        "plt.scatter(X[:,1], y);\n",
        "plt.plot(X[:,1],  m * X[:,1] + b, color='red')\n",
        "plt.xlabel('стаж')\n",
        "plt.ylabel('ср.балл ЕГЭ');"
      ]
    },
    {
      "cell_type": "code",
      "execution_count": 12,
      "metadata": {
        "id": "NntLxvtU7CbH"
      },
      "outputs": [],
      "source": [
        "y_pred1 = 47 + 4 * X[:,1] \n",
        "y_pred2 = 40 + 7 * X[:,1]"
      ]
    },
    {
      "cell_type": "code",
      "execution_count": 13,
      "metadata": {
        "colab": {
          "base_uri": "https://localhost:8080/"
        },
        "id": "XsDNASCq9VBe",
        "outputId": "7931f051-ae48-4749-e81a-c097f828ff9b"
      },
      "outputs": [
        {
          "output_type": "execute_result",
          "data": {
            "text/plain": [
              "array([51, 51, 55, 51, 59, 47, 67, 87, 51, 55])"
            ]
          },
          "metadata": {},
          "execution_count": 13
        }
      ],
      "source": [
        "y_pred1"
      ]
    },
    {
      "cell_type": "code",
      "execution_count": 14,
      "metadata": {
        "colab": {
          "base_uri": "https://localhost:8080/"
        },
        "id": "R8zyO-Qfs51Z",
        "outputId": "5490dfdb-468e-4374-8835-38f5a1ee2bdf"
      },
      "outputs": [
        {
          "output_type": "execute_result",
          "data": {
            "text/plain": [
              "array([ 47,  47,  54,  47,  61,  40,  75, 110,  47,  54])"
            ]
          },
          "metadata": {},
          "execution_count": 14
        }
      ],
      "source": [
        "y_pred2"
      ]
    },
    {
      "cell_type": "code",
      "execution_count": 15,
      "metadata": {
        "colab": {
          "base_uri": "https://localhost:8080/",
          "height": 287
        },
        "id": "kbQbHKlas_3u",
        "outputId": "33ebcae6-64a7-4b73-9b78-4ce18c60bf25"
      },
      "outputs": [
        {
          "output_type": "display_data",
          "data": {
            "text/plain": [
              "<Figure size 432x288 with 1 Axes>"
            ],
            "image/png": "[encoded data removed]"
          },
          "metadata": {
            "needs_background": "light"
          }
        }
      ],
      "source": [
        "plt.scatter(X[:,1], y)\n",
        "plt.plot(X[:,1], y_pred1, label='pred 1')\n",
        "plt.plot(X[:,1], y_pred2, label='pred 2')\n",
        "plt.xlabel('стаж')\n",
        "plt.ylabel('ср.балл ЕГЭ')\n",
        "plt.legend();"
      ]
    },
    {
      "cell_type": "code",
      "execution_count": 16,
      "metadata": {
        "colab": {
          "base_uri": "https://localhost:8080/"
        },
        "id": "zbsqjAxH9WqI",
        "outputId": "7655ef1f-ec6e-47e9-84b7-c9347539b4bf"
      },
      "outputs": [
        {
          "output_type": "execute_result",
          "data": {
            "text/plain": [
              "(0.0, -0.8)"
            ]
          },
          "metadata": {},
          "execution_count": 16
        }
      ],
      "source": [
        "err1 = np.mean(y - y_pred1)\n",
        "err2 = np.mean(y - y_pred2)\n",
        "err1, err2"
      ]
    },
    {
      "cell_type": "code",
      "execution_count": 17,
      "metadata": {
        "colab": {
          "base_uri": "https://localhost:8080/"
        },
        "id": "vUqCthPf9eYI",
        "outputId": "050ba74b-78fb-453c-b94a-e01e8edb82ca"
      },
      "outputs": [
        {
          "output_type": "execute_result",
          "data": {
            "text/plain": [
              "(6.2, 7.4)"
            ]
          },
          "metadata": {},
          "execution_count": 17
        }
      ],
      "source": [
        "# mae - mean absolute error\n",
        "mae_1 = np.mean(np.abs(y - y_pred1))\n",
        "mae_2 = np.mean(np.abs(y - y_pred2))\n",
        "mae_1, mae_2"
      ]
    },
    {
      "cell_type": "code",
      "execution_count": 18,
      "metadata": {
        "colab": {
          "base_uri": "https://localhost:8080/"
        },
        "id": "XTn2bZIg_EBS",
        "outputId": "980bd866-2d0f-4341-f5a4-a65f5114a662"
      },
      "outputs": [
        {
          "output_type": "execute_result",
          "data": {
            "text/plain": [
              "(46.0, 121.4)"
            ]
          },
          "metadata": {},
          "execution_count": 18
        }
      ],
      "source": [
        "# mse - mean squared error\n",
        "mse_1 = np.mean((y - y_pred1)**2)\n",
        "mse_2 = np.mean((y - y_pred2)**2)\n",
        "mse_1, mse_2"
      ]
    },
    {
      "cell_type": "code",
      "execution_count": 19,
      "metadata": {
        "colab": {
          "base_uri": "https://localhost:8080/"
        },
        "id": "-vbQhCOe3RUN",
        "outputId": "2b1006fb-00ae-4acb-c9d7-e9bcc2afecde"
      },
      "outputs": [
        {
          "output_type": "execute_result",
          "data": {
            "text/plain": [
              "(6.782329983125268, 11.018166816671457)"
            ]
          },
          "metadata": {},
          "execution_count": 19
        }
      ],
      "source": [
        "rmse_1 = np.sqrt(np.mean((y - y_pred1)**2))\n",
        "rmse_2 = np.sqrt(np.mean((y - y_pred2)**2))\n",
        "rmse_1, rmse_2"
      ]
    },
    {
      "cell_type": "markdown",
      "metadata": {
        "id": "R4zHyZ2Da5HV"
      },
      "source": [
        "### Метод наименьших квадратов (Ordinary Least Squares)"
      ]
    },
    {
      "cell_type": "markdown",
      "metadata": {
        "id": "Mqe6-3173RUO"
      },
      "source": [
        "Нормальное уравнение линейной регрессии\n",
        "$$\\vec{w} = (X^{T}X)^{-1}X^{T}\\vec{y}$$"
      ]
    },
    {
      "cell_type": "code",
      "execution_count": 20,
      "metadata": {
        "colab": {
          "base_uri": "https://localhost:8080/"
        },
        "id": "jtu5RQFW3RUP",
        "outputId": "3db4bfd2-afea-4f90-a2e7-d7b54024433e"
      },
      "outputs": [
        {
          "output_type": "execute_result",
          "data": {
            "text/plain": [
              "array([[ 1,  1],\n",
              "       [ 1,  1],\n",
              "       [ 1,  2],\n",
              "       [ 1,  1],\n",
              "       [ 1,  3],\n",
              "       [ 1,  0],\n",
              "       [ 1,  5],\n",
              "       [ 1, 10],\n",
              "       [ 1,  1],\n",
              "       [ 1,  2]])"
            ]
          },
          "metadata": {},
          "execution_count": 20
        }
      ],
      "source": [
        "X"
      ]
    },
    {
      "cell_type": "code",
      "execution_count": 21,
      "metadata": {
        "colab": {
          "base_uri": "https://localhost:8080/"
        },
        "id": "YfWfsKma3RUP",
        "outputId": "30cb1eff-5c88-4245-981f-ab31304e18a3"
      },
      "outputs": [
        {
          "output_type": "execute_result",
          "data": {
            "text/plain": [
              "array([[ 1,  1,  1,  1,  1,  1,  1,  1,  1,  1],\n",
              "       [ 1,  1,  2,  1,  3,  0,  5, 10,  1,  2]])"
            ]
          },
          "metadata": {},
          "execution_count": 21
        }
      ],
      "source": [
        "X.T"
      ]
    },
    {
      "cell_type": "code",
      "execution_count": 22,
      "metadata": {
        "colab": {
          "base_uri": "https://localhost:8080/"
        },
        "id": "70CJaAoT3RUQ",
        "outputId": "4f681d83-3465-4f21-8a5c-67878f158a28"
      },
      "outputs": [
        {
          "output_type": "execute_result",
          "data": {
            "text/plain": [
              "array([[ 10,  26],\n",
              "       [ 26, 146]])"
            ]
          },
          "metadata": {},
          "execution_count": 22
        }
      ],
      "source": [
        "X.T @ X"
      ]
    },
    {
      "cell_type": "code",
      "execution_count": 23,
      "metadata": {
        "colab": {
          "base_uri": "https://localhost:8080/"
        },
        "id": "mnyZzkaDBegD",
        "outputId": "787c5c9c-2be0-46ab-dc1d-e02a0103c849"
      },
      "outputs": [
        {
          "output_type": "execute_result",
          "data": {
            "text/plain": [
              "array([47.23214286,  3.91071429])"
            ]
          },
          "metadata": {},
          "execution_count": 23
        }
      ],
      "source": [
        "w = np.linalg.inv(X.T @ X) @ X.T @ y\n",
        "w"
      ]
    },
    {
      "cell_type": "code",
      "execution_count": 24,
      "metadata": {
        "colab": {
          "base_uri": "https://localhost:8080/"
        },
        "id": "6EUsqdRJ3RUR",
        "outputId": "1665dc4e-6085-4f68-8815-d1f88e8eca44"
      },
      "outputs": [
        {
          "output_type": "stream",
          "name": "stdout",
          "text": [
            "[45 45 50 45 55 40 65 90 45 50]\n",
            "[45 45 50 45 55 40 65 90 45 50]\n",
            "[45 45 50 45 55 40 65 90 45 50]\n",
            "[45 45 50 45 55 40 65 90 45 50]\n",
            "[45 45 50 45 55 40 65 90 45 50]\n"
          ]
        }
      ],
      "source": [
        "w_ = [40, 5]\n",
        "print(X @ w_)\n",
        "print(np.dot(w_, X.T))\n",
        "print(np.dot(X, w_))\n",
        "print(w_[0] * X[:,0] + w_[1] * X[:,1])\n",
        "print(np.sum(w_ * X, axis=1))"
      ]
    },
    {
      "cell_type": "code",
      "execution_count": 25,
      "metadata": {
        "colab": {
          "base_uri": "https://localhost:8080/",
          "height": 269
        },
        "id": "Lyg-J3H7Bnv5",
        "outputId": "a875f071-f9c2-416f-c8ea-d975a17ccd40"
      },
      "outputs": [
        {
          "output_type": "display_data",
          "data": {
            "text/plain": [
              "<Figure size 432x288 with 1 Axes>"
            ],
            "image/png": "[encoded data removed]"
          },
          "metadata": {
            "needs_background": "light"
          }
        }
      ],
      "source": [
        "plt.scatter(X[:,1], y)\n",
        "plt.plot(X[:,1], 45 + X[:,1] * 5, color='g')\n",
        "plt.plot(X[:,1], w[0] + w[1] * X[:,1], color='red');"
      ]
    },
    {
      "cell_type": "code",
      "execution_count": 26,
      "metadata": {
        "id": "JTSC2cFnCd8T"
      },
      "outputs": [],
      "source": [
        "def calc_mse(y, y_pred):\n",
        "    err = np.mean((y - y_pred)**2)\n",
        "    return err\n",
        "\n",
        "def calc_mae(y, y_pred):\n",
        "    err = np.mean(np.abs(y - y_pred))\n",
        "    return err"
      ]
    },
    {
      "cell_type": "code",
      "execution_count": 27,
      "metadata": {
        "colab": {
          "base_uri": "https://localhost:8080/"
        },
        "id": "AaE_x_nCDW3x",
        "outputId": "6e1ff69a-7312-4067-bc43-f95781ff5802"
      },
      "outputs": [
        {
          "output_type": "execute_result",
          "data": {
            "text/plain": [
              "(6.2, 46.0)"
            ]
          },
          "metadata": {},
          "execution_count": 27
        }
      ],
      "source": [
        "calc_mae(y, y_pred1), calc_mse(y, y_pred1)"
      ]
    },
    {
      "cell_type": "code",
      "execution_count": 28,
      "metadata": {
        "colab": {
          "base_uri": "https://localhost:8080/"
        },
        "id": "Yxo6vu3NDaTC",
        "outputId": "6dbefa8c-bb3b-4dd6-fd0d-edb594d873f8"
      },
      "outputs": [
        {
          "output_type": "execute_result",
          "data": {
            "text/plain": [
              "array([51.14285714, 51.14285714, 55.05357143, 51.14285714, 58.96428571,\n",
              "       47.23214286, 66.78571429, 86.33928571, 51.14285714, 55.05357143])"
            ]
          },
          "metadata": {},
          "execution_count": 28
        }
      ],
      "source": [
        "y_pred3 = w[0] * X[:,0] + w[1] * X[:,1]\n",
        "y_pred3"
      ]
    },
    {
      "cell_type": "code",
      "execution_count": 29,
      "metadata": {
        "colab": {
          "base_uri": "https://localhost:8080/"
        },
        "id": "_WtO6lvhDmQ6",
        "outputId": "7aabaf51-43bb-4710-9015-ca40ff6a7952"
      },
      "outputs": [
        {
          "output_type": "execute_result",
          "data": {
            "text/plain": [
              "(6.182142857142859, 45.93750000000002)"
            ]
          },
          "metadata": {},
          "execution_count": 29
        }
      ],
      "source": [
        "calc_mae(y, y_pred3), calc_mse(y, y_pred3)"
      ]
    },
    {
      "cell_type": "markdown",
      "metadata": {
        "id": "JAOgIXLRa--g"
      },
      "source": [
        "### Градиентный спуск (gradient descent)"
      ]
    },
    {
      "cell_type": "markdown",
      "metadata": {
        "id": "-i7hmMXn3RUV"
      },
      "source": [
        "<img src='img/grad_desent.gif' width=500 align='center'></img>"
      ]
    },
    {
      "cell_type": "markdown",
      "metadata": {
        "id": "OFesfI3a3RUV"
      },
      "source": [
        "$$L(w)=\\frac{1}{n}\\sum^{n}_{i=1}\\big(\\sum^{m}_{j=0}(w_jx_{ij})-y_{i}\\big)^{2}=\\frac{1}{n}\\sum^{n}_{i=1}\\big((w_0\\cdot x_{i0}+w_1\\cdot x_{i1})-y_{i}\\big)^{2}\\rightarrow \\underset{w}{\\text{min}}$$\n",
        "$$w_j\\rightarrow w_j-\\eta\\frac{\\partial}{\\partial w_j}L(w)$$\n",
        "$$\\frac{\\partial L(w)}{\\partial w_j}=\\frac{1}{n} 2\\sum^{n}_{i=1}x_{ij}\\Big(\\sum^{m}_{j=0}(w_jx_{ij})-y_i\\Big)$$\n",
        "$$\\vec{w}=\\vec{w}-\\eta \\frac{2}{n}X^T(X\\vec{w}-\\vec{y}) $$\n"
      ]
    },
    {
      "cell_type": "code",
      "execution_count": 30,
      "metadata": {
        "colab": {
          "base_uri": "https://localhost:8080/"
        },
        "id": "5DKkvmkwHdOx",
        "outputId": "5768fb26-6b9d-44f1-d9c4-1d9e25a6e01b"
      },
      "outputs": [
        {
          "output_type": "execute_result",
          "data": {
            "text/plain": [
              "(array([1. , 0.5]), array([1.1102, 0.84  ]))"
            ]
          },
          "metadata": {},
          "execution_count": 30
        }
      ],
      "source": [
        "n = 10\n",
        "eta = 1e-3\n",
        "w = np.array([1, 0.5])\n",
        "grad = 1/n * 2 * np.sum(X.T * (np.sum(w * X, axis=1) - y), axis=1)\n",
        "grad = 1/n * 2 * np.dot(X.T, (np.dot(X, w) - y))\n",
        "w, w - eta * grad"
      ]
    },
    {
      "cell_type": "markdown",
      "metadata": {
        "id": "J2-Iv80g3RUW"
      },
      "source": [
        "### Домашние задания"
      ]
    },
    {
      "cell_type": "markdown",
      "metadata": {
        "id": "huXrhXQsZTMt"
      },
      "source": [
        "1. Проведите небольшое исследование алгоритма градиентного спуска на данных из урока. Оцените влияние значений скорости обучения (`eta`) и количества итераций на ошибку алгоритма. Как связаны эти два гиперпараметра между собой? Подберите скорость обучения и количество итераций до совпадения ответов алгоритма с результатами МНК. Как можно ускорить процесс вычисления весов?  "
      ]
    },
    {
      "cell_type": "code",
      "execution_count": 31,
      "metadata": {
        "colab": {
          "base_uri": "https://localhost:8080/"
        },
        "id": "IDB22MQKMYaJ",
        "outputId": "31dd0c83-57e6-45f8-f87b-f15d52e36623"
      },
      "outputs": [
        {
          "output_type": "stream",
          "name": "stdout",
          "text": [
            "0 [2.102 3.9  ] 3173.15\n",
            "100 [31.88770806  6.74418155] 175.19445858001853\n",
            "200 [41.83683774  4.90699865] 61.9177717428135\n",
            "300 [45.33508261  4.26102097] 47.913169919666785\n",
            "400 [46.56511152  4.03388672] 46.181755648107604\n",
            "500 [46.99760587  3.95402334] 45.96769776787538\n",
            "600 [47.14967657  3.92594232] 45.941233404700036\n",
            "700 [47.20314662  3.91606866] 45.93796156758051\n"
          ]
        }
      ],
      "source": [
        "n = X.shape[0]\n",
        "eta = 1e-2\n",
        "iterations = 701\n",
        "w = np.array([1, 0.5])\n",
        "\n",
        "for i in range(iterations):\n",
        "    y_pred = np.dot(X, w)\n",
        "    err = calc_mse(y, y_pred)\n",
        "    for j in range(w.shape[0]):\n",
        "        w[j] -= eta * (1/n * 2 * np.sum(X[:,j] * (y_pred - y)))\n",
        "    if i % 100 == 0:\n",
        "        print(i, w, err) # МНК: array([47.23214286,  3.91071429]) 45.937499999999986"
      ]
    },
    {
      "cell_type": "markdown",
      "source": [
        "При увеличении количества итераций ошибка уменьшается.При уменьшении шага итерации (1e-4) ошибка возрастает, а при увеличении шага, до определенного значения, ошибка уменьшается. Есть риск перескочить. Оптимально на мой взгляд eta=1e-2, iterations=701\n",
        "Если уменьшаем eta , то итераций нужно Больше. Следовательно для ускорения процесса можно попробовать увеличить eta и уменьшить количество итераций\n",
        "Чем меньше значение eta, тем медленнее мы спускаемся по наклонной, тем больше времени нам понадобиться, чтоб спуститься до нижней точки\n",
        "\n"
      ],
      "metadata": {
        "id": "NrgGLMD56GyZ"
      }
    },
    {
      "cell_type": "markdown",
      "metadata": {
        "id": "5Qu1o4JhZYwI"
      },
      "source": [
        "*2. В этом коде мы избавляемся от итераций по весам, но тут есть ошибка, исправьте ее:"
      ]
    },
    {
      "cell_type": "markdown",
      "source": [
        "Не смогла сообразить как.. Но тут, видимо, пробелы в самом Python.. "
      ],
      "metadata": {
        "id": "jTNoY9jXFNPk"
      }
    },
    {
      "cell_type": "code",
      "execution_count": 47,
      "metadata": {
        "colab": {
          "base_uri": "https://localhost:8080/",
          "height": 235
        },
        "id": "WZZzDCQLY4pA",
        "outputId": "2d8d163d-8de6-46f6-a5c4-91298a51cfba"
      },
      "outputs": [
        {
          "output_type": "error",
          "ename": "ValueError",
          "evalue": "ignored",
          "traceback": [
            "\u001b[0;31m---------------------------------------------------------------------------\u001b[0m",
            "\u001b[0;31mValueError\u001b[0m                                Traceback (most recent call last)",
            "\u001b[0;32m<ipython-input-47-2dc440bc5802>\u001b[0m in \u001b[0;36m<module>\u001b[0;34m()\u001b[0m\n\u001b[1;32m      7\u001b[0m     \u001b[0my_pred\u001b[0m \u001b[0;34m=\u001b[0m \u001b[0mnp\u001b[0m\u001b[0;34m.\u001b[0m\u001b[0mdot\u001b[0m\u001b[0;34m(\u001b[0m\u001b[0mX\u001b[0m\u001b[0;34m,\u001b[0m \u001b[0mw\u001b[0m\u001b[0;34m)\u001b[0m\u001b[0;34m\u001b[0m\u001b[0;34m\u001b[0m\u001b[0m\n\u001b[1;32m      8\u001b[0m     \u001b[0merr\u001b[0m \u001b[0;34m=\u001b[0m \u001b[0mcalc_mse\u001b[0m\u001b[0;34m(\u001b[0m\u001b[0my\u001b[0m\u001b[0;34m,\u001b[0m \u001b[0my_pred\u001b[0m\u001b[0;34m)\u001b[0m\u001b[0;34m\u001b[0m\u001b[0;34m\u001b[0m\u001b[0m\n\u001b[0;32m----> 9\u001b[0;31m     \u001b[0mw\u001b[0m \u001b[0;34m-=\u001b[0m \u001b[0;34m(\u001b[0m\u001b[0meta\u001b[0m \u001b[0;34m*\u001b[0m \u001b[0;34m(\u001b[0m\u001b[0;36m1\u001b[0m\u001b[0;34m/\u001b[0m\u001b[0mn\u001b[0m \u001b[0;34m*\u001b[0m \u001b[0;36m2\u001b[0m \u001b[0;34m*\u001b[0m \u001b[0mnp\u001b[0m\u001b[0;34m.\u001b[0m\u001b[0msum\u001b[0m\u001b[0;34m(\u001b[0m\u001b[0mX\u001b[0m \u001b[0;34m*\u001b[0m \u001b[0;34m(\u001b[0m\u001b[0my_pred\u001b[0m \u001b[0;34m-\u001b[0m \u001b[0my\u001b[0m\u001b[0;34m)\u001b[0m\u001b[0;34m,\u001b[0m \u001b[0maxis\u001b[0m\u001b[0;34m=\u001b[0m\u001b[0;36m1\u001b[0m\u001b[0;34m)\u001b[0m\u001b[0;34m)\u001b[0m\u001b[0;34m)\u001b[0m\u001b[0;34m\u001b[0m\u001b[0;34m\u001b[0m\u001b[0m\n\u001b[0m\u001b[1;32m     10\u001b[0m     \u001b[0;32mif\u001b[0m \u001b[0mi\u001b[0m \u001b[0;34m%\u001b[0m \u001b[0;36m100\u001b[0m \u001b[0;34m==\u001b[0m \u001b[0;36m0\u001b[0m\u001b[0;34m:\u001b[0m\u001b[0;34m\u001b[0m\u001b[0;34m\u001b[0m\u001b[0m\n\u001b[1;32m     11\u001b[0m         \u001b[0mprint\u001b[0m\u001b[0;34m(\u001b[0m\u001b[0mi\u001b[0m\u001b[0;34m,\u001b[0m \u001b[0mw\u001b[0m\u001b[0;34m,\u001b[0m \u001b[0merr\u001b[0m\u001b[0;34m)\u001b[0m \u001b[0;31m# [47.23214286  3.91071429] 45.937499999999986\u001b[0m\u001b[0;34m\u001b[0m\u001b[0;34m\u001b[0m\u001b[0m\n",
            "\u001b[0;31mValueError\u001b[0m: operands could not be broadcast together with shapes (10,2) (10,) "
          ]
        }
      ],
      "source": [
        "n = X.shape[0]\n",
        "eta = 1e-2\n",
        "iterations = 7001\n",
        "w = np.array([1, 0.5])\n",
        "\n",
        "for i in range(iterations):\n",
        "    y_pred = np.dot(X, w)\n",
        "    err = calc_mse(y, y_pred)\n",
        "    w -= (eta * (1/n * 2 * np.sum(X * (y_pred - y), axis=1)))\n",
        "    if i % 100 == 0:\n",
        "        print(i, w, err) # [47.23214286  3.91071429] 45.937499999999986"
      ]
    },
    {
      "cell_type": "code",
      "metadata": {
        "id": "kGLyytFgHdco",
        "colab": {
          "base_uri": "https://localhost:8080/",
          "height": 148
        },
        "outputId": "744f4c2c-ce28-4e6f-c117-affe57867ce6"
      },
      "source": [
        "*3. Вместо того, чтобы задавать количество итераций, задайте условие остановки алгоритма - когда ошибка за итерацию начинает изменяться ниже определенного порога. \n",
        "\n",
        "Сколько нужно сделать итераций, если установить допустимое отклонение mse за одну итерацию в размере diff=1e-6, а значение eta=1e-2?"
      ],
      "execution_count": 33,
      "outputs": [
        {
          "output_type": "error",
          "ename": "SyntaxError",
          "evalue": "ignored",
          "traceback": [
            "\u001b[0;36m  File \u001b[0;32m\"<ipython-input-33-0efaaf8ee4ec>\"\u001b[0;36m, line \u001b[0;32m1\u001b[0m\n\u001b[0;31m    *3. Вместо того, чтобы задавать количество итераций, задайте условие остановки алгоритма - когда ошибка за итерацию начинает изменяться ниже определенного порога.\u001b[0m\n\u001b[0m             ^\u001b[0m\n\u001b[0;31mSyntaxError\u001b[0m\u001b[0;31m:\u001b[0m invalid syntax\n"
          ]
        }
      ]
    },
    {
      "cell_type": "code",
      "execution_count": 34,
      "metadata": {
        "id": "3z9u9Jz43RUa"
      },
      "outputs": [],
      "source": [
        "w = np.array([1, 0.5])\n",
        "diff = 1e-6\n",
        "eta = 1e-2\n"
      ]
    },
    {
      "cell_type": "markdown",
      "metadata": {
        "id": "y9Pmifle3RUa"
      },
      "source": [
        "Заметки по дифференцированию матриц \n",
        "http://nabatchikov.com/blog/view/matrix_der_2 и матричным вычислениям http://www.machinelearning.ru/wiki/images/2/2a/Matrix-Gauss.pdf\n"
      ]
    },
    {
      "cell_type": "code",
      "execution_count": null,
      "metadata": {
        "id": "S2Our6RX3RUb"
      },
      "outputs": [],
      "source": [
        ""
      ]
    }
  ],
  "metadata": {
    "colab": {
      "collapsed_sections": [],
      "name": "HW1.ipynb\"",
      "provenance": []
    },
    "kernelspec": {
      "display_name": "Python 3",
      "language": "python",
      "name": "python3"
    },
    "language_info": {
      "codemirror_mode": {
        "name": "ipython",
        "version": 3
      },
      "file_extension": ".py",
      "mimetype": "text/x-python",
      "name": "python",
      "nbconvert_exporter": "python",
      "pygments_lexer": "ipython3",
      "version": "3.7.3"
    },
    "toc": {
      "base_numbering": 1,
      "nav_menu": {},
      "number_sections": false,
      "sideBar": true,
      "skip_h1_title": true,
      "title_cell": "План занятия",
      "title_sidebar": "План",
      "toc_cell": true,
      "toc_position": {
        "height": "calc(100% - 180px)",
        "left": "10px",
        "top": "150px",
        "width": "165px"
      },
      "toc_section_display": true,
      "toc_window_display": false
    },
    "widgets": {
      "application/vnd.jupyter.widget-state+json": {
        "cb9f7a0f669c485380430d80a0f77c21": {
          "model_module": "@jupyter-widgets/controls",
          "model_name": "VBoxModel",
          "model_module_version": "1.5.0",
          "state": {
            "_dom_classes": [
              "widget-interact"
            ],
            "_model_module": "@jupyter-widgets/controls",
            "_model_module_version": "1.5.0",
            "_model_name": "VBoxModel",
            "_view_count": null,
            "_view_module": "@jupyter-widgets/controls",
            "_view_module_version": "1.5.0",
            "_view_name": "VBoxView",
            "box_style": "",
            "children": [
              "IPY_MODEL_a3ccbb752879470d849fea3a518730a8",
              "IPY_MODEL_5f768a6b71dc4de1af0f14e68cf5a74b",
              "IPY_MODEL_ec36872ece1f4fa2bfa7050177c1f397"
            ],
            "layout": "IPY_MODEL_85ef350539374a378af2b1e3e3832465"
          }
        },
        "a3ccbb752879470d849fea3a518730a8": {
          "model_module": "@jupyter-widgets/controls",
          "model_name": "FloatSliderModel",
          "model_module_version": "1.5.0",
          "state": {
            "_dom_classes": [],
            "_model_module": "@jupyter-widgets/controls",
            "_model_module_version": "1.5.0",
            "_model_name": "FloatSliderModel",
            "_view_count": null,
            "_view_module": "@jupyter-widgets/controls",
            "_view_module_version": "1.5.0",
            "_view_name": "FloatSliderView",
            "continuous_update": true,
            "description": "m",
            "description_tooltip": null,
            "disabled": false,
            "layout": "IPY_MODEL_0072afa31eca47048e1269776e8c1422",
            "max": 2,
            "min": -2,
            "orientation": "horizontal",
            "readout": true,
            "readout_format": ".2f",
            "step": 0.1,
            "style": "IPY_MODEL_ba49fd2d4fed41f2be8ecb7768d9956b",
            "value": 0
          }
        },
        "5f768a6b71dc4de1af0f14e68cf5a74b": {
          "model_module": "@jupyter-widgets/controls",
          "model_name": "IntSliderModel",
          "model_module_version": "1.5.0",
          "state": {
            "_dom_classes": [],
            "_model_module": "@jupyter-widgets/controls",
            "_model_module_version": "1.5.0",
            "_model_name": "IntSliderModel",
            "_view_count": null,
            "_view_module": "@jupyter-widgets/controls",
            "_view_module_version": "1.5.0",
            "_view_name": "IntSliderView",
            "continuous_update": true,
            "description": "b",
            "description_tooltip": null,
            "disabled": false,
            "layout": "IPY_MODEL_21433e496c574ca9a3f4d2e7bdcbb8f8",
            "max": 10,
            "min": -10,
            "orientation": "horizontal",
            "readout": true,
            "readout_format": "d",
            "step": 1,
            "style": "IPY_MODEL_01a7061bd3064e6187c09fc6d932ba55",
            "value": 0
          }
        },
        "ec36872ece1f4fa2bfa7050177c1f397": {
          "model_module": "@jupyter-widgets/output",
          "model_name": "OutputModel",
          "model_module_version": "1.0.0",
          "state": {
            "_dom_classes": [],
            "_model_module": "@jupyter-widgets/output",
            "_model_module_version": "1.0.0",
            "_model_name": "OutputModel",
            "_view_count": null,
            "_view_module": "@jupyter-widgets/output",
            "_view_module_version": "1.0.0",
            "_view_name": "OutputView",
            "layout": "IPY_MODEL_953d3031ff9946cd942cf4f882ff4be5",
            "msg_id": "",
            "outputs": [
              {
                "output_type": "display_data",
                "data": {
                  "text/plain": "<Figure size 432x288 with 1 Axes>",
                  "image/png": "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\n"
                },
                "metadata": {
                  "needs_background": "light"
                }
              }
            ]
          }
        },
        "85ef350539374a378af2b1e3e3832465": {
          "model_module": "@jupyter-widgets/base",
          "model_name": "LayoutModel",
          "model_module_version": "1.2.0",
          "state": {
            "_model_module": "@jupyter-widgets/base",
            "_model_module_version": "1.2.0",
            "_model_name": "LayoutModel",
            "_view_count": null,
            "_view_module": "@jupyter-widgets/base",
            "_view_module_version": "1.2.0",
            "_view_name": "LayoutView",
            "align_content": null,
            "align_items": null,
            "align_self": null,
            "border": null,
            "bottom": null,
            "display": null,
            "flex": null,
            "flex_flow": null,
            "grid_area": null,
            "grid_auto_columns": null,
            "grid_auto_flow": null,
            "grid_auto_rows": null,
            "grid_column": null,
            "grid_gap": null,
            "grid_row": null,
            "grid_template_areas": null,
            "grid_template_columns": null,
            "grid_template_rows": null,
            "height": null,
            "justify_content": null,
            "justify_items": null,
            "left": null,
            "margin": null,
            "max_height": null,
            "max_width": null,
            "min_height": null,
            "min_width": null,
            "object_fit": null,
            "object_position": null,
            "order": null,
            "overflow": null,
            "overflow_x": null,
            "overflow_y": null,
            "padding": null,
            "right": null,
            "top": null,
            "visibility": null,
            "width": null
          }
        },
        "0072afa31eca47048e1269776e8c1422": {
          "model_module": "@jupyter-widgets/base",
          "model_name": "LayoutModel",
          "model_module_version": "1.2.0",
          "state": {
            "_model_module": "@jupyter-widgets/base",
            "_model_module_version": "1.2.0",
            "_model_name": "LayoutModel",
            "_view_count": null,
            "_view_module": "@jupyter-widgets/base",
            "_view_module_version": "1.2.0",
            "_view_name": "LayoutView",
            "align_content": null,
            "align_items": null,
            "align_self": null,
            "border": null,
            "bottom": null,
            "display": null,
            "flex": null,
            "flex_flow": null,
            "grid_area": null,
            "grid_auto_columns": null,
            "grid_auto_flow": null,
            "grid_auto_rows": null,
            "grid_column": null,
            "grid_gap": null,
            "grid_row": null,
            "grid_template_areas": null,
            "grid_template_columns": null,
            "grid_template_rows": null,
            "height": null,
            "justify_content": null,
            "justify_items": null,
            "left": null,
            "margin": null,
            "max_height": null,
            "max_width": null,
            "min_height": null,
            "min_width": null,
            "object_fit": null,
            "object_position": null,
            "order": null,
            "overflow": null,
            "overflow_x": null,
            "overflow_y": null,
            "padding": null,
            "right": null,
            "top": null,
            "visibility": null,
            "width": null
          }
        },
        "ba49fd2d4fed41f2be8ecb7768d9956b": {
          "model_module": "@jupyter-widgets/controls",
          "model_name": "SliderStyleModel",
          "model_module_version": "1.5.0",
          "state": {
            "_model_module": "@jupyter-widgets/controls",
            "_model_module_version": "1.5.0",
            "_model_name": "SliderStyleModel",
            "_view_count": null,
            "_view_module": "@jupyter-widgets/base",
            "_view_module_version": "1.2.0",
            "_view_name": "StyleView",
            "description_width": "",
            "handle_color": null
          }
        },
        "21433e496c574ca9a3f4d2e7bdcbb8f8": {
          "model_module": "@jupyter-widgets/base",
          "model_name": "LayoutModel",
          "model_module_version": "1.2.0",
          "state": {
            "_model_module": "@jupyter-widgets/base",
            "_model_module_version": "1.2.0",
            "_model_name": "LayoutModel",
            "_view_count": null,
            "_view_module": "@jupyter-widgets/base",
            "_view_module_version": "1.2.0",
            "_view_name": "LayoutView",
            "align_content": null,
            "align_items": null,
            "align_self": null,
            "border": null,
            "bottom": null,
            "display": null,
            "flex": null,
            "flex_flow": null,
            "grid_area": null,
            "grid_auto_columns": null,
            "grid_auto_flow": null,
            "grid_auto_rows": null,
            "grid_column": null,
            "grid_gap": null,
            "grid_row": null,
            "grid_template_areas": null,
            "grid_template_columns": null,
            "grid_template_rows": null,
            "height": null,
            "justify_content": null,
            "justify_items": null,
            "left": null,
            "margin": null,
            "max_height": null,
            "max_width": null,
            "min_height": null,
            "min_width": null,
            "object_fit": null,
            "object_position": null,
            "order": null,
            "overflow": null,
            "overflow_x": null,
            "overflow_y": null,
            "padding": null,
            "right": null,
            "top": null,
            "visibility": null,
            "width": null
          }
        },
        "01a7061bd3064e6187c09fc6d932ba55": {
          "model_module": "@jupyter-widgets/controls",
          "model_name": "SliderStyleModel",
          "model_module_version": "1.5.0",
          "state": {
            "_model_module": "@jupyter-widgets/controls",
            "_model_module_version": "1.5.0",
            "_model_name": "SliderStyleModel",
            "_view_count": null,
            "_view_module": "@jupyter-widgets/base",
            "_view_module_version": "1.2.0",
            "_view_name": "StyleView",
            "description_width": "",
            "handle_color": null
          }
        },
        "953d3031ff9946cd942cf4f882ff4be5": {
          "model_module": "@jupyter-widgets/base",
          "model_name": "LayoutModel",
          "model_module_version": "1.2.0",
          "state": {
            "_model_module": "@jupyter-widgets/base",
            "_model_module_version": "1.2.0",
            "_model_name": "LayoutModel",
            "_view_count": null,
            "_view_module": "@jupyter-widgets/base",
            "_view_module_version": "1.2.0",
            "_view_name": "LayoutView",
            "align_content": null,
            "align_items": null,
            "align_self": null,
            "border": null,
            "bottom": null,
            "display": null,
            "flex": null,
            "flex_flow": null,
            "grid_area": null,
            "grid_auto_columns": null,
            "grid_auto_flow": null,
            "grid_auto_rows": null,
            "grid_column": null,
            "grid_gap": null,
            "grid_row": null,
            "grid_template_areas": null,
            "grid_template_columns": null,
            "grid_template_rows": null,
            "height": "350px",
            "justify_content": null,
            "justify_items": null,
            "left": null,
            "margin": null,
            "max_height": null,
            "max_width": null,
            "min_height": null,
            "min_width": null,
            "object_fit": null,
            "object_position": null,
            "order": null,
            "overflow": null,
            "overflow_x": null,
            "overflow_y": null,
            "padding": null,
            "right": null,
            "top": null,
            "visibility": null,
            "width": null
          }
        }
      }
    }
  },
  "nbformat": 4,
  "nbformat_minor": 0
}